{
 "cells": [
  {
   "cell_type": "code",
   "execution_count": 1,
   "metadata": {},
   "outputs": [
    {
     "name": "stdout",
     "output_type": "stream",
     "text": [
      "2.1.0\n"
     ]
    }
   ],
   "source": [
    "# EDIT > NOTEBOOK SETTINGS > GPU\n",
    "\n",
    "#!pip3 install -q tensorflow_gpu>=2.0\n",
    "\n",
    "import tensorflow as tf\n",
    "print(tf.__version__)"
   ]
  },
  {
   "cell_type": "code",
   "execution_count": null,
   "metadata": {},
   "outputs": [],
   "source": [
    "# verify GPU availability\n",
    "device_name = tf.test.gpu_device_name()\n",
    "if device_name != '/device:GPU:0':\n",
    "  raise SystemError('GPU device not found')\n",
    "else:\n",
    "  print (\"Success\")"
   ]
  },
  {
   "cell_type": "code",
   "execution_count": 5,
   "metadata": {},
   "outputs": [],
   "source": [
    "#!pip3 install -q ktrain\n",
    "\n",
    "#print('ktrain installed')"
   ]
  },
  {
   "cell_type": "code",
   "execution_count": 2,
   "metadata": {},
   "outputs": [
    {
     "name": "stdout",
     "output_type": "stream",
     "text": [
      "size of training set: 2257\n",
      "size of validation set: 1502\n",
      "classes: ['alt.atheism', 'comp.graphics', 'sci.med', 'soc.religion.christian']\n"
     ]
    }
   ],
   "source": [
    "# using code from second tutorial (distilbert tutorial)\n",
    "# https://towardsdatascience.com/text-classification-with-hugging-face-transformers-in-tensorflow-2-without-tears-ee50e4f3e7ed\n",
    "\n",
    "categories = ['alt.atheism', 'soc.religion.christian',\n",
    "             'comp.graphics', 'sci.med']\n",
    "from sklearn.datasets import fetch_20newsgroups\n",
    "train_b = fetch_20newsgroups(subset='train',\n",
    "   categories=categories, shuffle=True, random_state=42)\n",
    "test_b = fetch_20newsgroups(subset='test',\n",
    "   categories=categories, shuffle=True, random_state=42)\n",
    "\n",
    "print('size of training set: %s' % (len(train_b['data'])))\n",
    "print('size of validation set: %s' % (len(test_b['data'])))\n",
    "print('classes: %s' % (train_b.target_names))\n",
    "\n",
    "x_train = train_b.data\n",
    "y_train = train_b.target\n",
    "x_test = test_b.data\n",
    "y_test = test_b.target"
   ]
  },
  {
   "cell_type": "code",
   "execution_count": 3,
   "metadata": {},
   "outputs": [
    {
     "name": "stderr",
     "output_type": "stream",
     "text": [
      "Using TensorFlow backend.\n"
     ]
    },
    {
     "name": "stdout",
     "output_type": "stream",
     "text": [
      "2.3.1\n",
      "0.12.3\n"
     ]
    },
    {
     "name": "stderr",
     "output_type": "stream",
     "text": [
      "/Users/seanmhiggins/opt/anaconda3/lib/python3.7/site-packages/ktrain/text/preprocessor.py:367: UserWarning: The class_names argument is replacing the classes argument. Please update your code.\n",
      "  warnings.warn('The class_names argument is replacing the classes argument. Please update your code.')\n"
     ]
    },
    {
     "data": {
      "application/vnd.jupyter.widget-view+json": {
       "model_id": "25074ed1c8fc487096c90ba3217efd84",
       "version_major": 2,
       "version_minor": 0
      },
      "text/plain": [
       "HBox(children=(FloatProgress(value=0.0, description='Downloading', max=231508.0, style=ProgressStyle(descripti…"
      ]
     },
     "metadata": {},
     "output_type": "display_data"
    },
    {
     "name": "stdout",
     "output_type": "stream",
     "text": [
      "\n",
      "preprocessing train...\n",
      "language: en\n",
      "train sequence lengths:\n",
      "\tmean : 308\n",
      "\t95percentile : 837\n",
      "\t99percentile : 1938\n"
     ]
    },
    {
     "data": {
      "text/html": [],
      "text/plain": [
       "<IPython.core.display.HTML object>"
      ]
     },
     "metadata": {},
     "output_type": "display_data"
    },
    {
     "name": "stdout",
     "output_type": "stream",
     "text": [
      "preprocessing test...\n",
      "language: en\n",
      "test sequence lengths:\n",
      "\tmean : 343\n",
      "\t95percentile : 979\n",
      "\t99percentile : 2562\n"
     ]
    },
    {
     "data": {
      "text/html": [],
      "text/plain": [
       "<IPython.core.display.HTML object>"
      ]
     },
     "metadata": {},
     "output_type": "display_data"
    },
    {
     "data": {
      "application/vnd.jupyter.widget-view+json": {
       "model_id": "de28a825f1b44324940cd672f926539e",
       "version_major": 2,
       "version_minor": 0
      },
      "text/plain": [
       "HBox(children=(FloatProgress(value=0.0, description='Downloading', max=546.0, style=ProgressStyle(description_…"
      ]
     },
     "metadata": {},
     "output_type": "display_data"
    },
    {
     "name": "stdout",
     "output_type": "stream",
     "text": [
      "\n"
     ]
    },
    {
     "data": {
      "application/vnd.jupyter.widget-view+json": {
       "model_id": "e66e41d342d94f39b2084b9f0f0b6a6d",
       "version_major": 2,
       "version_minor": 0
      },
      "text/plain": [
       "HBox(children=(FloatProgress(value=0.0, description='Downloading', max=363423424.0, style=ProgressStyle(descri…"
      ]
     },
     "metadata": {},
     "output_type": "display_data"
    },
    {
     "name": "stdout",
     "output_type": "stream",
     "text": [
      "\n"
     ]
    }
   ],
   "source": [
    "# THIS CELL DOES NOT RUN -- TUTORIAL CODE IS BROKEN\n",
    "import keras\n",
    "print(keras.__version__)\n",
    "import ktrain\n",
    "from ktrain import text\n",
    "print(ktrain.__version__)\n",
    "\n",
    "# step 1 create a transformer instance\n",
    "MODEL_NAME = 'distilbert-base-uncased'\n",
    "t = text.Transformer(MODEL_NAME, maxlen=500, classes=train_b.target_names)\n",
    "\n",
    "# step 2 preprocess data\n",
    "trn = t.preprocess_train(x_train, y_train)\n",
    "val = t.preprocess_test(x_test, y_test)\n",
    "\n",
    "# step 3 create a model and wrap in learner\n",
    "model = t.get_classifier()\n",
    "learner = ktrain.get_learner(model, train_data=trn, val_data=val, batch_size=6)"
   ]
  },
  {
   "cell_type": "code",
   "execution_count": 4,
   "metadata": {},
   "outputs": [
    {
     "name": "stdout",
     "output_type": "stream",
     "text": [
      "simulating training for different learning rates... this may take a few moments...\n",
      "Train for 376 steps\n",
      "Epoch 1/2\n",
      "376/376 [==============================] - 2092s 6s/step - loss: 1.0782 - accuracy: 0.5168\n",
      "Epoch 2/2\n",
      "225/376 [================>.............] - ETA: 13:34 - loss: 1.7699 - accuracy: 0.2439\n",
      "\n",
      "done.\n"
     ]
    },
    {
     "data": {
      "image/png": "[encoded data removed]",
      "text/plain": [
       "<Figure size 432x288 with 1 Axes>"
      ]
     },
     "metadata": {
      "needs_background": "light"
     },
     "output_type": "display_data"
    }
   ],
   "source": [
    "# step 4 [OPTIONAL] estimate the learning rate\n",
    "learner.lr_find(show_plot=True, max_epochs=2)"
   ]
  },
  {
   "cell_type": "code",
   "execution_count": 5,
   "metadata": {
    "scrolled": true
   },
   "outputs": [
    {
     "name": "stdout",
     "output_type": "stream",
     "text": [
      "\n",
      "\n",
      "begin training using onecycle policy with max lr of 5e-05...\n",
      "Train for 377 steps, validate for 47 steps\n",
      "Epoch 1/4\n",
      "377/377 [==============================] - 2539s 7s/step - loss: 0.6959 - accuracy: 0.7479 - val_loss: 0.1781 - val_accuracy: 0.9434\n",
      "Epoch 2/4\n",
      "377/377 [==============================] - 3834s 10s/step - loss: 0.1581 - accuracy: 0.9561 - val_loss: 0.2787 - val_accuracy: 0.9141\n",
      "Epoch 3/4\n",
      "377/377 [==============================] - 2730s 7s/step - loss: 0.0758 - accuracy: 0.9792 - val_loss: 0.1917 - val_accuracy: 0.9501\n",
      "Epoch 4/4\n",
      "377/377 [==============================] - 3038s 8s/step - loss: 0.0182 - accuracy: 0.9956 - val_loss: 0.1548 - val_accuracy: 0.9554\n"
     ]
    },
    {
     "data": {
      "text/plain": [
       "<tensorflow.python.keras.callbacks.History at 0x1a56d70b10>"
      ]
     },
     "execution_count": 5,
     "metadata": {},
     "output_type": "execute_result"
    }
   ],
   "source": [
    "# step 5 train the model \n",
    "learner.fit_onecycle(5e-5, 4)"
   ]
  },
  {
   "cell_type": "code",
   "execution_count": 6,
   "metadata": {},
   "outputs": [
    {
     "name": "stdout",
     "output_type": "stream",
     "text": [
      "----------\n",
      "id:1330 | loss:6.99 | true:comp.graphics | pred:sci.med)\n",
      "\n",
      "From: lilley@v5.cgu.mcc.ac.uk (Chris Lilley)\n",
      "Subject: Re: Colour Transform for Red/Green Colour Blindness\n",
      "Reply-To: C.C.Lilley@mcc.ac.uk\n",
      "Organization: Computer Graphics Unit, MCC\n",
      "Lines: 96\n",
      "\n",
      "\n",
      "In article <geoffw.736035868@extro.ucc.su.OZ.AU>, geoffw@extro.ucc.su.OZ.AU\n",
      "(Geoffrey Warren Hicks) writes:\n",
      "\n",
      ">Posted on behalf of Craig Southeren who does not have access to\n",
      ">a net account:\n",
      ">-------------------------------------------------------------------\n",
      "\n",
      ">Can anyone provide me with a colour space transform that would\n",
      ">emulate the effects of red/green colour blindness? I have had\n",
      ">a quick look in the computer graphics literature with no results.\n",
      ">Perhaps someone who has access to medical information could help?\n",
      " \n",
      "Certainly. Reference follows. \n",
      "\n",
      "Bear in mind that there are at least two conditions which may be called\n",
      "red/green colour blind. One, protanopia, is caused by a lack or major\n",
      "dysfunction of the L cones, those that respond best to long\n",
      "wavelengths. This gives much reduced red/green and red/violet discrimination and\n",
      "also means that reds look dimmer than than they do to people with normal vision.\n",
      "\n",
      "The other, deuteranopia, is due to missing or dysfunctional M cones although it\n",
      "can also be caused by a lack of the L-M cone difference signals in the retina.\n",
      "It also gives reduced red/green discrimination but red/violet is unaffected. \n",
      "Unlike protanopia, reds are not dimmer than  normal.\n",
      "\n",
      "On a uniform chromaticity diagram - the horseshoe shaped one you see in computer\n",
      "graphics books - there is a single confusion point for each type of colour\n",
      "deficiency. Colours which are confused lie on straight lines radiating from this\n",
      "point. For protanopia the point is at u'=0.61,v'=0.51, very close to the far red\n",
      "corner. For deuteranopia, the point is at u'=-4.75, v'=1.31\n",
      "\n",
      "Note that different experimental investigations in the literature give slightly\n",
      "different values for these depending on the precise details of the experimental\n",
      "setup, random errors, and so on. The values quoted are typical.\n",
      "\n",
      "So if all colours on a line are seen as the same, which colour is actually seen?\n",
      "\n",
      "This problem has now been solved. Tests on people with one normal eye and one\n",
      "affected eye have shown that there is an axis for each type of disorder onto\n",
      "which all the colours collapse. For protanopes this joins up 473nm and 574nm on\n",
      "the spectral locus (the edge of the horseshoe); for deuteranopes the line is\n",
      "very similar,  joining 477nm and 579nm.\n",
      "\n",
      "*So* to convert colours from normal vision to a simulated protanopia or\n",
      "duuteranopia:\n",
      "\n",
      "1) Plot the colour on a uniform chromaticity diagram\n",
      "2) Construct a line from this point to the appropriate confusion point\n",
      "3) Find the intersection of this line with the appropriate axis line\n",
      "4) This is the new chromaticity. \n",
      "\n",
      "The best reference for this is Meyer, G.W. & Greenberg, D.P. (1988) 'Colour\n",
      "defective vision and computer graphics displays', IEEE Computer Graphics and\n",
      "Applications 8(5) 28-40.\n",
      "\n",
      "You will also need a decent reference on basic colour science if you are not\n",
      "familiar with the CIE XYZ colour model and the uniform chromaticity scale diagram.\n",
      "\n",
      ">I would like to write a program (probably a PPM filter) to allow\n",
      ">previewing of images to check for sufficient contract for colour\n",
      ">blind users. Not being colour blind myself, this is a bit difficult!\n",
      "\n",
      "Yes this is certainly possible. You will need the chromaticities of the red\n",
      "green and blue phosphors of the monitor you intend to display the images on, and\n",
      "the chromaticity of the white point. This information can be measured, or\n",
      "obtained from the manufacturer. I posted a list of some monitor chromaticities a\n",
      "couple of weeks ago.\n",
      "\n",
      "The procedure, for each pixel (!) is as follows. (Some lookup tables might be a\n",
      "help here.)\n",
      "\n",
      "A) convert RGB to CIE XYZ. This is a simple 3*3 matrix multiplication once you\n",
      "have the monitor data.\n",
      "B) retaining the Y component for later, convert XYZ to chromaticity coordinates u'v'\n",
      "using u' = 4X/(X+15Y+3Z), v' = 9Y/(X+15Y+3Z)\n",
      "C) find the equation of the line as in step 2 above\n",
      "D) find the intersection as in step 3\n",
      "E) convert back from u'v' to XYZ, using the Y value from step A\n",
      "F) Ensure that this new colour can be displayed on your monitor; if not, move it\n",
      "along a line in XYZ space towards neutral grey (ie half way between black and\n",
      "white) until it is displayable.\n",
      "\n",
      ">Please email replies - I will summarise and repost if there is\n",
      ">sufficient interest\n",
      "\n",
      "Done; also posted for the rest of us.\n",
      "\n",
      "--\n",
      "Chris Lilley\n",
      "----------------------------------------------------------------------------\n",
      "Technical Author, ITTI Computer Graphics and Visualisation Training Project\n",
      "Computer Graphics Unit, Manchester Computing Centre, Oxford Road, \n",
      "Manchester, UK.  M13 9PL                        Internet: C.C.Lilley@mcc.ac.uk  \n",
      "Voice: +44 (0)61 275 6045  Fax: +44 (0)61 275 6040 Janet: C.C.Lilley@uk.ac.mcc\n",
      "------------------------------------------------------------------------------\n",
      "\n"
     ]
    }
   ],
   "source": [
    "# step 6 [OPTIONAL] inspect the model\n",
    "learner.view_top_losses(n=1, preproc=t)\n",
    "print(x_test[1355])"
   ]
  },
  {
   "cell_type": "code",
   "execution_count": 7,
   "metadata": {
    "scrolled": true
   },
   "outputs": [
    {
     "data": {
      "text/html": [],
      "text/plain": [
       "<IPython.core.display.HTML object>"
      ]
     },
     "metadata": {},
     "output_type": "display_data"
    },
    {
     "data": {
      "text/plain": [
       "'soc.religion.christian'"
      ]
     },
     "execution_count": 7,
     "metadata": {},
     "output_type": "execute_result"
    }
   ],
   "source": [
    "# step 7 make predictions on new data\n",
    "predictor = ktrain.get_predictor(learner.model, preproc=t)\n",
    "predictor.predict('Jesus Christ is the central figure of Christianity.')"
   ]
  },
  {
   "cell_type": "code",
   "execution_count": 8,
   "metadata": {
    "scrolled": true
   },
   "outputs": [
    {
     "data": {
      "text/html": [],
      "text/plain": [
       "<IPython.core.display.HTML object>"
      ]
     },
     "metadata": {},
     "output_type": "display_data"
    },
    {
     "data": {
      "text/html": [],
      "text/plain": [
       "<IPython.core.display.HTML object>"
      ]
     },
     "metadata": {},
     "output_type": "display_data"
    },
    {
     "data": {
      "text/plain": [
       "array([3.0939963e-03, 6.7910680e-04, 8.4489456e-04, 9.9538201e-01],\n",
       "      dtype=float32)"
      ]
     },
     "execution_count": 8,
     "metadata": {},
     "output_type": "execute_result"
    }
   ],
   "source": [
    "# step 8 [OPTIONAL] save and load predictor\n",
    "#predictor.save('./my_20newsgroup_predictor')\n",
    "\n",
    "#reloaded_predictor = ktrain.load_predictor('./my_20newsgroup_predictor')\n",
    "#reloaded_predictor.get_classes()\n",
    "\n",
    "#reloaded_predictor.predict('Jesus Christ is the central figure of Christianity.')\n",
    "\n",
    "#reloaded_predictor.predict_proba('Jesus Christ is the central figure of Christianity.')"
   ]
  },
  {
   "cell_type": "code",
   "execution_count": null,
   "metadata": {},
   "outputs": [],
   "source": []
  }
 ],
 "metadata": {
  "kernelspec": {
   "display_name": "Python 3",
   "language": "python",
   "name": "python3"
  },
  "language_info": {
   "codemirror_mode": {
    "name": "ipython",
    "version": 3
   },
   "file_extension": ".py",
   "mimetype": "text/x-python",
   "name": "python",
   "nbconvert_exporter": "python",
   "pygments_lexer": "ipython3",
   "version": "3.7.6"
  }
 },
 "nbformat": 4,
 "nbformat_minor": 4
}
