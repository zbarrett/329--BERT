{
 "cells": [
  {
   "cell_type": "code",
   "execution_count": 1,
   "metadata": {},
   "outputs": [],
   "source": [
    "import numpy as np\n",
    "import pandas as pd\n",
    "import pickle"
   ]
  },
  {
   "cell_type": "code",
   "execution_count": 2,
   "metadata": {},
   "outputs": [],
   "source": [
    "categories = ['alt.atheism', 'soc.religion.christian',\n",
    "             'comp.graphics', 'sci.med']\n",
    "from sklearn.datasets import fetch_20newsgroups\n",
    "df = fetch_20newsgroups(subset='all', categories=categories, shuffle=True, random_state=42)"
   ]
  },
  {
   "cell_type": "code",
   "execution_count": 3,
   "metadata": {},
   "outputs": [
    {
     "name": "stdout",
     "output_type": "stream",
     "text": [
      "size of data: 3759\n"
     ]
    }
   ],
   "source": [
    "print('size of data: %s' % (len(df['data'])))"
   ]
  },
  {
   "cell_type": "code",
   "execution_count": 4,
   "metadata": {},
   "outputs": [],
   "source": [
    "X = df.data\n",
    "y = df.target"
   ]
  },
  {
   "cell_type": "code",
   "execution_count": 5,
   "metadata": {},
   "outputs": [
    {
     "name": "stderr",
     "output_type": "stream",
     "text": [
      "Using TensorFlow backend.\n"
     ]
    },
    {
     "name": "stdout",
     "output_type": "stream",
     "text": [
      "Found 48309 unique tokens.\n"
     ]
    }
   ],
   "source": [
    "from keras.preprocessing.text import Tokenizer\n",
    "from keras.preprocessing.sequence import pad_sequences\n",
    "\n",
    "NUM_WORDS = 20000\n",
    "\n",
    "tokenizer = Tokenizer(num_words=NUM_WORDS)\n",
    "tokenizer.fit_on_texts(X)\n",
    "sequences = tokenizer.texts_to_sequences(X)\n",
    "\n",
    "word_index = tokenizer.word_index\n",
    "print('Found %s unique tokens.' % len(word_index))"
   ]
  },
  {
   "cell_type": "code",
   "execution_count": 6,
   "metadata": {},
   "outputs": [],
   "source": [
    "X = pad_sequences(sequences, maxlen=30000)"
   ]
  },
  {
   "cell_type": "code",
   "execution_count": 7,
   "metadata": {},
   "outputs": [
    {
     "name": "stdout",
     "output_type": "stream",
     "text": [
      "Shape of data tensor: (3759, 30000)\n",
      "Shape of label tensor: (3759,)\n"
     ]
    }
   ],
   "source": [
    "print('Shape of data tensor:', X.shape)\n",
    "print('Shape of label tensor:', y.shape)"
   ]
  },
  {
   "cell_type": "code",
   "execution_count": 8,
   "metadata": {},
   "outputs": [],
   "source": [
    "from keras.utils import np_utils\n",
    "\n",
    "y = np_utils.to_categorical(y)"
   ]
  },
  {
   "cell_type": "code",
   "execution_count": 9,
   "metadata": {},
   "outputs": [
    {
     "name": "stdout",
     "output_type": "stream",
     "text": [
      "2255\n",
      "752\n",
      "752\n"
     ]
    }
   ],
   "source": [
    "from sklearn.model_selection import train_test_split\n",
    "X_temp, X_test, y_temp, y_test = train_test_split(X, y, test_size = 0.2)\n",
    "X_train, X_val, y_train, y_val = train_test_split(X_temp, y_temp, test_size = 0.25)\n",
    "\n",
    "print (len(X_train))\n",
    "print (len(X_val))\n",
    "print (len(X_test))\n",
    "# 60, 20, 20 split"
   ]
  },
  {
   "cell_type": "code",
   "execution_count": 10,
   "metadata": {},
   "outputs": [],
   "source": [
    "pickle_in = open(\"../../HW 3/pretrained_word2vec_model\",\"rb\")\n",
    "pretrained_model = pickle.load(pickle_in)"
   ]
  },
  {
   "cell_type": "code",
   "execution_count": 11,
   "metadata": {},
   "outputs": [],
   "source": [
    "EMBEDDING_DIM = 300\n",
    "vocabulary_size = min(len(word_index)+1, NUM_WORDS)\n",
    "embedding_matrix = np.zeros((vocabulary_size, EMBEDDING_DIM))\n",
    "\n",
    "for word, i in word_index.items():\n",
    "    if i>=NUM_WORDS:\n",
    "        continue\n",
    "        \n",
    "    try:\n",
    "        embedding_vector = pretrained_model[word]\n",
    "        embedding_matrix[i] = embedding_vector\n",
    "    except KeyError:\n",
    "        embedding_matrix[i]=np.random.normal(0,np.sqrt(0.25),EMBEDDING_DIM)\n",
    "\n",
    "del(pretrained_model)"
   ]
  },
  {
   "cell_type": "code",
   "execution_count": 12,
   "metadata": {},
   "outputs": [],
   "source": [
    "preprocessed_data = [X_train, y_train, X_val, y_val, X_test, y_test, embedding_matrix]\n",
    "\n",
    "pickle_out = open(\"preprocessed_CNN.p\", \"wb\")\n",
    "pickle.dump(preprocessed_data, pickle_out)\n",
    "pickle_out.close()"
   ]
  },
  {
   "cell_type": "code",
   "execution_count": 13,
   "metadata": {},
   "outputs": [],
   "source": [
    "import pickle\n",
    "pickle_in = open(\"preprocessed_CNN.p\",\"rb\")\n",
    "preprocessed_data = pickle.load(pickle_in)\n",
    "X_train, y_train, X_val, y_val, X_test, y_test, embedding_matrix = preprocessed_data"
   ]
  },
  {
   "cell_type": "code",
   "execution_count": 14,
   "metadata": {},
   "outputs": [],
   "source": [
    "from keras.layers import Embedding\n",
    "EMBEDDING_DIM=300\n",
    "vocabulary_size=min(len(word_index)+1,NUM_WORDS)"
   ]
  },
  {
   "cell_type": "code",
   "execution_count": 15,
   "metadata": {},
   "outputs": [],
   "source": [
    "# from keras.layers import Dense, Input, GlobalMaxPooling1D\n",
    "# from keras.layers import Conv1D, MaxPooling1D, Embedding\n",
    "# from keras.models import Model\n",
    "# from keras.layers import Input, Dense, Embedding, Conv2D, MaxPooling2D, Dropout,concatenate\n",
    "# from keras.layers.core import Reshape, Flatten\n",
    "from keras.callbacks import EarlyStopping\n",
    "from keras.optimizers import Adam\n",
    "from keras.models import Model\n",
    "from keras import regularizers\n",
    "\n",
    "\n",
    "from keras.models import Sequential, Model, load_model\n",
    "from keras.layers.embeddings import Embedding\n",
    "from keras.layers import Dense\n",
    "from keras.layers import Dropout\n",
    "from keras.layers import Conv1D\n",
    "from keras.layers import GlobalMaxPooling1D\n",
    "\n",
    "sequence_length = X_train.shape[1]\n",
    "filterSize = 3\n",
    "num_filters = 100\n",
    "dropout = 0.5\n",
    "units = 32"
   ]
  },
  {
   "cell_type": "code",
   "execution_count": 16,
   "metadata": {},
   "outputs": [
    {
     "name": "stdout",
     "output_type": "stream",
     "text": [
      "Model: \"sequential_1\"\n",
      "_________________________________________________________________\n",
      "Layer (type)                 Output Shape              Param #   \n",
      "=================================================================\n",
      "embedding_1 (Embedding)      (None, None, 300)         6000000   \n",
      "_________________________________________________________________\n",
      "conv1d_1 (Conv1D)            (None, None, 100)         90100     \n",
      "_________________________________________________________________\n",
      "global_max_pooling1d_1 (Glob (None, 100)               0         \n",
      "_________________________________________________________________\n",
      "dropout_1 (Dropout)          (None, 100)               0         \n",
      "_________________________________________________________________\n",
      "dense_1 (Dense)              (None, 32)                3232      \n",
      "_________________________________________________________________\n",
      "dense_2 (Dense)              (None, 4)                 132       \n",
      "=================================================================\n",
      "Total params: 6,093,464\n",
      "Trainable params: 6,093,464\n",
      "Non-trainable params: 0\n",
      "_________________________________________________________________\n"
     ]
    }
   ],
   "source": [
    "model = Sequential()\n",
    "\n",
    "model.add(Embedding(vocabulary_size,\n",
    "                            EMBEDDING_DIM,\n",
    "                            weights=[embedding_matrix],\n",
    "                            trainable=True))\n",
    "          \n",
    "model.add(Conv1D(num_filters, filterSize, activation='relu'))\n",
    "model.add(GlobalMaxPooling1D())\n",
    "model.add(Dropout(dropout))\n",
    "model.add(Dense(units, activation='relu'))\n",
    "model.add(Dense(4, activation='sigmoid', kernel_regularizer=regularizers.l2(0.01)))\n",
    "\n",
    "\n",
    "model.summary()"
   ]
  },
  {
   "cell_type": "code",
   "execution_count": 17,
   "metadata": {},
   "outputs": [],
   "source": [
    "adam = Adam(lr=1e-3)\n",
    "\n",
    "model.compile(loss='categorical_crossentropy', # sparse_\n",
    "              optimizer=adam,\n",
    "              metrics=['acc'])\n",
    "callbacks = [EarlyStopping(monitor='val_loss')]\n"
   ]
  },
  {
   "cell_type": "code",
   "execution_count": 18,
   "metadata": {},
   "outputs": [
    {
     "name": "stderr",
     "output_type": "stream",
     "text": [
      "/Users/seanmhiggins/opt/anaconda3/lib/python3.7/site-packages/tensorflow_core/python/framework/indexed_slices.py:433: UserWarning: Converting sparse IndexedSlices to a dense Tensor of unknown shape. This may consume a large amount of memory.\n",
      "  \"Converting sparse IndexedSlices to a dense Tensor of unknown shape. \"\n"
     ]
    },
    {
     "name": "stdout",
     "output_type": "stream",
     "text": [
      "Train on 2255 samples, validate on 752 samples\n",
      "Epoch 1/10\n",
      "2255/2255 [==============================] - 215s 95ms/step - loss: 1.4695 - acc: 0.3166 - val_loss: 1.3474 - val_acc: 0.5479\n",
      "Epoch 2/10\n",
      "2255/2255 [==============================] - 250s 111ms/step - loss: 1.2996 - acc: 0.4625 - val_loss: 1.1471 - val_acc: 0.6529\n",
      "Epoch 3/10\n",
      "2255/2255 [==============================] - 257s 114ms/step - loss: 1.0749 - acc: 0.5654 - val_loss: 0.8640 - val_acc: 0.7021\n",
      "Epoch 4/10\n",
      "2255/2255 [==============================] - 265s 118ms/step - loss: 0.8044 - acc: 0.7033 - val_loss: 0.6357 - val_acc: 0.8191\n",
      "Epoch 5/10\n",
      "2255/2255 [==============================] - 266s 118ms/step - loss: 0.6128 - acc: 0.7951 - val_loss: 0.4952 - val_acc: 0.8816\n",
      "Epoch 6/10\n",
      "2255/2255 [==============================] - 265s 117ms/step - loss: 0.4539 - acc: 0.8608 - val_loss: 0.4057 - val_acc: 0.9043\n",
      "Epoch 7/10\n",
      "2255/2255 [==============================] - 261s 116ms/step - loss: 0.3714 - acc: 0.9047 - val_loss: 0.3384 - val_acc: 0.9242\n",
      "Epoch 8/10\n",
      "2255/2255 [==============================] - 259s 115ms/step - loss: 0.2861 - acc: 0.9339 - val_loss: 0.2938 - val_acc: 0.9282\n",
      "Epoch 9/10\n",
      "2255/2255 [==============================] - 258s 114ms/step - loss: 0.2231 - acc: 0.9561 - val_loss: 0.2472 - val_acc: 0.9428\n",
      "Epoch 10/10\n",
      "2255/2255 [==============================] - 254s 113ms/step - loss: 0.1928 - acc: 0.9588 - val_loss: 0.2262 - val_acc: 0.9455\n"
     ]
    },
    {
     "data": {
      "text/plain": [
       "<keras.callbacks.callbacks.History at 0x1a875b6250>"
      ]
     },
     "execution_count": 18,
     "metadata": {},
     "output_type": "execute_result"
    }
   ],
   "source": [
    "model.fit(X_train, y_train, batch_size=100, epochs=10, verbose=1, validation_data=(X_val, y_val),\n",
    "         callbacks=callbacks)"
   ]
  }
 ],
 "metadata": {
  "kernelspec": {
   "display_name": "Python 3",
   "language": "python",
   "name": "python3"
  },
  "language_info": {
   "codemirror_mode": {
    "name": "ipython",
    "version": 3
   },
   "file_extension": ".py",
   "mimetype": "text/x-python",
   "name": "python",
   "nbconvert_exporter": "python",
   "pygments_lexer": "ipython3",
   "version": "3.7.6"
  }
 },
 "nbformat": 4,
 "nbformat_minor": 4
}
