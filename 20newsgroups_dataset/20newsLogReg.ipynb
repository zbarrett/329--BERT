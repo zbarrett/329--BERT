{
 "cells": [
  {
   "cell_type": "code",
   "execution_count": 1,
   "metadata": {
    "colab": {},
    "colab_type": "code",
    "id": "bZXX6nmjYMMQ"
   },
   "outputs": [
    {
     "name": "stdout",
     "output_type": "stream",
     "text": [
      "size of data: 3759\n"
     ]
    }
   ],
   "source": [
    "# OPTIONAL skip to block 5\n",
    "categories = ['alt.atheism', 'soc.religion.christian',\n",
    "             'comp.graphics', 'sci.med']\n",
    "from sklearn.datasets import fetch_20newsgroups\n",
    "df = fetch_20newsgroups(subset='all', categories=categories, shuffle=True, random_state=42)\n",
    "\n",
    "print('size of data: %s' % (len(df['data'])))"
   ]
  },
  {
   "cell_type": "code",
   "execution_count": 2,
   "metadata": {
    "colab": {
     "base_uri": "https://localhost:8080/",
     "height": 34
    },
    "colab_type": "code",
    "id": "deWrDyCjYerM",
    "outputId": "1d08c3d1-afda-4b9a-b9e1-6b51c8eecd60"
   },
   "outputs": [],
   "source": [
    "# OPTIONAL skip to block 5\n",
    "X = df.data\n",
    "y = df.target"
   ]
  },
  {
   "cell_type": "code",
   "execution_count": 3,
   "metadata": {},
   "outputs": [
    {
     "data": {
      "text/plain": [
       "2525"
      ]
     },
     "execution_count": 3,
     "metadata": {},
     "output_type": "execute_result"
    }
   ],
   "source": [
    "from sklearn.model_selection import train_test_split\n",
    "X_temp, X_test, y_temp, y_test = train_test_split(X, y, test_size = 0.2)\n",
    "\n",
    "\n",
    "X_train, X_val, y_train, y_val = train_test_split(X_temp, y_temp, test_size = 0.16)\n",
    "\n",
    "len(X_train) # 60, 20, 20 split\n"
   ]
  },
  {
   "cell_type": "code",
   "execution_count": 4,
   "metadata": {},
   "outputs": [],
   "source": [
    "from sklearn.feature_extraction.text import CountVectorizer\n",
    "# create the transform\n",
    "vectorizer = CountVectorizer()\n",
    "\n",
    "# tokenize and build vocab\n",
    "vectorizer.fit(X_train)\n",
    "\n",
    "# summarize\n",
    "# print(vectorizer.vocabulary_)\n",
    "\n",
    "# encode documents in train\n",
    "vector = vectorizer.transform(X_train)\n",
    "# summarize encoded vector\n",
    "X_train = vector.toarray()\n",
    "\n",
    "# encode documents in val\n",
    "vector = vectorizer.transform(X_val)\n",
    "# summarize encoded vector\n",
    "X_val = vector.toarray()\n",
    "\n",
    "# encode documents in test\n",
    "vector = vectorizer.transform(X_test)\n",
    "# summarize encoded vector\n",
    "X_test = vector.toarray()"
   ]
  },
  {
   "cell_type": "code",
   "execution_count": 5,
   "metadata": {
    "colab": {
     "base_uri": "https://localhost:8080/",
     "height": 34
    },
    "colab_type": "code",
    "id": "7tnLIVUGxHwl",
    "outputId": "7ccc89f1-0e84-4684-cea3-72092425f980"
   },
   "outputs": [
    {
     "data": {
      "text/plain": [
       "['alt.atheism', 'comp.graphics', 'sci.med', 'soc.religion.christian']"
      ]
     },
     "execution_count": 5,
     "metadata": {},
     "output_type": "execute_result"
    }
   ],
   "source": [
    "# OPTIONAL skip to block 5\n",
    "df.target_names"
   ]
  },
  {
   "cell_type": "code",
   "execution_count": 6,
   "metadata": {
    "colab": {
     "base_uri": "https://localhost:8080/",
     "height": 34
    },
    "colab_type": "code",
    "id": "bo_OGh0iyl2V",
    "outputId": "b0ce3227-5439-42a6-e06e-b0ad3f19b3c0"
   },
   "outputs": [
    {
     "name": "stdout",
     "output_type": "stream",
     "text": [
      "done\n"
     ]
    }
   ],
   "source": [
    "# OPTIONAL skip to block 5\n",
    "import pickle\n",
    "\n",
    "preprocessed_data = (X_train, y_train, X_val, y_val, X_test, y_test)\n",
    "\n",
    "pickle_out = open(\"preprocessed_data_log_reg.p\",\"wb\")\n",
    "pickle.dump(preprocessed_data, pickle_out)\n",
    "pickle_out.close()\n",
    "print('done')"
   ]
  },
  {
   "cell_type": "code",
   "execution_count": 7,
   "metadata": {
    "colab": {
     "base_uri": "https://localhost:8080/",
     "height": 34
    },
    "colab_type": "code",
    "id": "YAA-aWwA9pde",
    "outputId": "6a80337c-86e9-4061-bcc7-d12d994558d5"
   },
   "outputs": [],
   "source": [
    "import pickle\n",
    "pickle_in = open(\"preprocessed_data_log_reg.p\",\"rb\")\n",
    "preprocessed_data = pickle.load(pickle_in)\n",
    "X_train, y_train, X_val, y_val, X_test, y_test = preprocessed_data"
   ]
  },
  {
   "cell_type": "code",
   "execution_count": 8,
   "metadata": {
    "colab": {},
    "colab_type": "code",
    "id": "mDA47VCBYMMX"
   },
   "outputs": [
    {
     "name": "stdout",
     "output_type": "stream",
     "text": [
      "done training\n"
     ]
    }
   ],
   "source": [
    "from sklearn.linear_model import LogisticRegression\n",
    "clf = LogisticRegression(random_state=0, max_iter=5000).fit(X_train, y_train)\n",
    "print(\"done training\")"
   ]
  },
  {
   "cell_type": "code",
   "execution_count": 9,
   "metadata": {
    "colab": {
     "base_uri": "https://localhost:8080/",
     "height": 34
    },
    "colab_type": "code",
    "id": "bmqX0Em71QCy",
    "outputId": "ac7c50b7-ebbb-4c4a-f96f-1bcd5d16f310"
   },
   "outputs": [],
   "source": [
    "y_pred = clf.predict(X_val)"
   ]
  },
  {
   "cell_type": "code",
   "execution_count": 10,
   "metadata": {
    "colab": {
     "base_uri": "https://localhost:8080/",
     "height": 34
    },
    "colab_type": "code",
    "id": "4l7Pm2DMDphV",
    "outputId": "3f9d1af9-c1b0-4d06-8edc-3118dd779bd5"
   },
   "outputs": [
    {
     "data": {
      "text/plain": [
       "0.9522821576763485"
      ]
     },
     "execution_count": 10,
     "metadata": {},
     "output_type": "execute_result"
    }
   ],
   "source": [
    "from sklearn.metrics import accuracy_score\n",
    "acc = accuracy_score(y_val, y_pred)\n",
    "\n",
    "acc"
   ]
  },
  {
   "cell_type": "code",
   "execution_count": 11,
   "metadata": {
    "colab": {
     "base_uri": "https://localhost:8080/",
     "height": 85
    },
    "colab_type": "code",
    "id": "HDpf8obqCGBl",
    "outputId": "890383b2-a934-4454-eae1-98a0b7aa61ab"
   },
   "outputs": [
    {
     "data": {
      "text/plain": [
       "array([[ 90,   3,   1,   6],\n",
       "       [  0, 130,   0,   1],\n",
       "       [  0,   8, 119,   0],\n",
       "       [  1,   2,   1, 120]])"
      ]
     },
     "execution_count": 11,
     "metadata": {},
     "output_type": "execute_result"
    }
   ],
   "source": [
    "from sklearn.metrics import confusion_matrix\n",
    "cm = confusion_matrix(y_val, y_pred)\n",
    "\n",
    "cm"
   ]
  },
  {
   "cell_type": "code",
   "execution_count": 12,
   "metadata": {
    "colab": {
     "base_uri": "https://localhost:8080/",
     "height": 204
    },
    "colab_type": "code",
    "id": "68jgY3FYDttr",
    "outputId": "e7c12223-dd6d-4d1f-8869-a3cf1510350c"
   },
   "outputs": [
    {
     "name": "stdout",
     "output_type": "stream",
     "text": [
      "              precision    recall  f1-score   support\n",
      "\n",
      "           0       0.99      0.90      0.94       100\n",
      "           1       0.91      0.99      0.95       131\n",
      "           2       0.98      0.94      0.96       127\n",
      "           3       0.94      0.97      0.96       124\n",
      "\n",
      "    accuracy                           0.95       482\n",
      "   macro avg       0.96      0.95      0.95       482\n",
      "weighted avg       0.95      0.95      0.95       482\n",
      "\n"
     ]
    }
   ],
   "source": [
    "from sklearn.metrics import classification_report\n",
    "\n",
    "print(classification_report(y_val, y_pred))"
   ]
  }
 ],
 "metadata": {
  "accelerator": "GPU",
  "colab": {
   "collapsed_sections": [],
   "name": "Copy of news_ktrain_tutorial.ipynb",
   "provenance": []
  },
  "kernelspec": {
   "display_name": "Python 3",
   "language": "python",
   "name": "python3"
  },
  "language_info": {
   "codemirror_mode": {
    "name": "ipython",
    "version": 3
   },
   "file_extension": ".py",
   "mimetype": "text/x-python",
   "name": "python",
   "nbconvert_exporter": "python",
   "pygments_lexer": "ipython3",
   "version": "3.7.6"
  }
 },
 "nbformat": 4,
 "nbformat_minor": 1
}
