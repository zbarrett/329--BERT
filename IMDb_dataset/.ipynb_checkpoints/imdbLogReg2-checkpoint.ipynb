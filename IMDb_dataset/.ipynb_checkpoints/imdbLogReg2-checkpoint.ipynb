{
 "cells": [
  {
   "cell_type": "markdown",
   "metadata": {
    "colab_type": "text",
    "id": "x1o4iBg2be29"
   },
   "source": [
    "The following code will not work until LogReg is fixed in ktrain, changes might be needed in order to get fully functional.\n",
    "\n",
    "Visit this link to see update:\n",
    "https://github.com/amaiya/ktrain/blob/master/ktrain/tests/test_textclassification.py "
   ]
  },
  {
   "cell_type": "code",
   "execution_count": 0,
   "metadata": {
    "colab": {},
    "colab_type": "code",
    "id": "XprNB22pT15J"
   },
   "outputs": [],
   "source": [
    "!pip3 install ktrain"
   ]
  },
  {
   "cell_type": "code",
   "execution_count": 2,
   "metadata": {
    "colab": {
     "base_uri": "https://localhost:8080/",
     "height": 34
    },
    "colab_type": "code",
    "id": "C0fG6pZmG0hc",
    "outputId": "02694598-68a8-4caf-a8d2-408f86c07503"
   },
   "outputs": [
    {
     "data": {
      "text/plain": [
       "'0.14.1'"
      ]
     },
     "execution_count": 2,
     "metadata": {
      "tags": []
     },
     "output_type": "execute_result"
    }
   ],
   "source": [
    "import numpy as np\n",
    "import pandas as pd\n",
    "import sklearn\n",
    "import ktrain\n",
    "from ktrain import text\n",
    "\n",
    "ktrain.__version__"
   ]
  },
  {
   "cell_type": "code",
   "execution_count": 0,
   "metadata": {
    "colab": {},
    "colab_type": "code",
    "id": "r1uCoaYbG2ZU"
   },
   "outputs": [],
   "source": [
    "import tensorflow as tf\n",
    "\n",
    "dataset = tf.keras.utils.get_file(\n",
    "    fname=\"aclImdb.tar.gz\", \n",
    "    origin=\"http://ai.stanford.edu/~amaas/data/sentiment/aclImdb_v1.tar.gz\", \n",
    "    extract=True,\n",
    ")"
   ]
  },
  {
   "cell_type": "code",
   "execution_count": 5,
   "metadata": {
    "colab": {
     "base_uri": "https://localhost:8080/",
     "height": 34
    },
    "colab_type": "code",
    "id": "VJA6k5huI5c_",
    "outputId": "708494fc-cc9c-4642-ea1e-b78e0629517f"
   },
   "outputs": [
    {
     "name": "stdout",
     "output_type": "stream",
     "text": [
      "/root/.keras/datasets/aclImdb\n"
     ]
    }
   ],
   "source": [
    "import os.path\n",
    "IMDB_DATADIR = os.path.join(os.path.dirname(dataset), 'aclImdb')\n",
    "print(IMDB_DATADIR)"
   ]
  },
  {
   "cell_type": "code",
   "execution_count": 0,
   "metadata": {
    "colab": {},
    "colab_type": "code",
    "id": "B4TZl0WaTnPk"
   },
   "outputs": [],
   "source": [
    "# This is the part where we get errors.\n",
    "# Once LogReg is ready to use this should work\n",
    "trn, val, preproc = text.texts_from_folder(IMDB_DATADIR, \n",
    "                                          maxlen=500, \n",
    "                                          preprocess_mode='logreg',\n",
    "                                          train_test_names=['train', \n",
    "                                                            'test'],\n",
    "                                          classes=['pos','neg'])"
   ]
  },
  {
   "cell_type": "code",
   "execution_count": 0,
   "metadata": {
    "colab": {},
    "colab_type": "code",
    "id": "CXu5vEQpVf3k"
   },
   "outputs": [],
   "source": [
    "model = text.text_classifier('logreg', train_data=trn, preproc=preproc)\n",
    "learner = ktrain.get_learner(model,train_data=trn, val_data=val, batch_size=6)"
   ]
  },
  {
   "cell_type": "code",
   "execution_count": 0,
   "metadata": {
    "colab": {},
    "colab_type": "code",
    "id": "AjPIcJDMcDEc"
   },
   "outputs": [],
   "source": [
    "learner.fit_onecycle(2e-5, 1)"
   ]
  }
 ],
 "metadata": {
  "accelerator": "GPU",
  "colab": {
   "name": "imdbLogReg.ipynb",
   "provenance": []
  },
  "kernelspec": {
   "display_name": "Python 3",
   "language": "python",
   "name": "python3"
  },
  "language_info": {
   "codemirror_mode": {
    "name": "ipython",
    "version": 3
   },
   "file_extension": ".py",
   "mimetype": "text/x-python",
   "name": "python",
   "nbconvert_exporter": "python",
   "pygments_lexer": "ipython3",
   "version": "3.7.6"
  }
 },
 "nbformat": 4,
 "nbformat_minor": 1
}
